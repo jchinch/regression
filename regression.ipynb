{
 "cells": [
  {
   "cell_type": "code",
   "execution_count": 1,
   "metadata": {},
   "outputs": [],
   "source": [
    "import numpy as np\n",
    "import pandas as pd\n",
    "import matplotlib.pyplot as plt\n",
    "import math\n",
    "import seaborn as sns\n",
    "import statsmodels.api as sm\n",
    "from sklearn.model_selection import train_test_split\n",
    "from scipy import stats"
   ]
  },
  {
   "cell_type": "code",
   "execution_count": 2,
   "metadata": {},
   "outputs": [
    {
     "data": {
      "text/html": [
       "<div>\n",
       "<style scoped>\n",
       "    .dataframe tbody tr th:only-of-type {\n",
       "        vertical-align: middle;\n",
       "    }\n",
       "\n",
       "    .dataframe tbody tr th {\n",
       "        vertical-align: top;\n",
       "    }\n",
       "\n",
       "    .dataframe thead th {\n",
       "        text-align: right;\n",
       "    }\n",
       "</style>\n",
       "<table border=\"1\" class=\"dataframe\">\n",
       "  <thead>\n",
       "    <tr style=\"text-align: right;\">\n",
       "      <th></th>\n",
       "      <th>X1</th>\n",
       "      <th>X2</th>\n",
       "      <th>X3</th>\n",
       "      <th>X4</th>\n",
       "      <th>X5</th>\n",
       "      <th>Y</th>\n",
       "    </tr>\n",
       "  </thead>\n",
       "  <tbody>\n",
       "    <tr>\n",
       "      <th>0</th>\n",
       "      <td>14.47200</td>\n",
       "      <td>23.5520</td>\n",
       "      <td>67.921</td>\n",
       "      <td>76.212</td>\n",
       "      <td>88.292</td>\n",
       "      <td>1583.2</td>\n",
       "    </tr>\n",
       "    <tr>\n",
       "      <th>1</th>\n",
       "      <td>8.77720</td>\n",
       "      <td>23.4560</td>\n",
       "      <td>45.202</td>\n",
       "      <td>74.720</td>\n",
       "      <td>95.002</td>\n",
       "      <td>1367.7</td>\n",
       "    </tr>\n",
       "    <tr>\n",
       "      <th>2</th>\n",
       "      <td>13.00300</td>\n",
       "      <td>17.8300</td>\n",
       "      <td>67.540</td>\n",
       "      <td>64.430</td>\n",
       "      <td>114.630</td>\n",
       "      <td>1655.2</td>\n",
       "    </tr>\n",
       "    <tr>\n",
       "      <th>3</th>\n",
       "      <td>-6.35780</td>\n",
       "      <td>30.4270</td>\n",
       "      <td>46.573</td>\n",
       "      <td>93.653</td>\n",
       "      <td>67.497</td>\n",
       "      <td>1239.7</td>\n",
       "    </tr>\n",
       "    <tr>\n",
       "      <th>4</th>\n",
       "      <td>25.58100</td>\n",
       "      <td>7.4073</td>\n",
       "      <td>30.896</td>\n",
       "      <td>72.519</td>\n",
       "      <td>98.709</td>\n",
       "      <td>2010.4</td>\n",
       "    </tr>\n",
       "    <tr>\n",
       "      <th>...</th>\n",
       "      <td>...</td>\n",
       "      <td>...</td>\n",
       "      <td>...</td>\n",
       "      <td>...</td>\n",
       "      <td>...</td>\n",
       "      <td>...</td>\n",
       "    </tr>\n",
       "    <tr>\n",
       "      <th>295</th>\n",
       "      <td>9.24530</td>\n",
       "      <td>10.1590</td>\n",
       "      <td>80.555</td>\n",
       "      <td>72.726</td>\n",
       "      <td>99.786</td>\n",
       "      <td>1503.8</td>\n",
       "    </tr>\n",
       "    <tr>\n",
       "      <th>296</th>\n",
       "      <td>0.38753</td>\n",
       "      <td>44.1610</td>\n",
       "      <td>80.662</td>\n",
       "      <td>72.227</td>\n",
       "      <td>115.950</td>\n",
       "      <td>1639.8</td>\n",
       "    </tr>\n",
       "    <tr>\n",
       "      <th>297</th>\n",
       "      <td>11.52900</td>\n",
       "      <td>-12.7620</td>\n",
       "      <td>57.399</td>\n",
       "      <td>71.702</td>\n",
       "      <td>116.500</td>\n",
       "      <td>1524.2</td>\n",
       "    </tr>\n",
       "    <tr>\n",
       "      <th>298</th>\n",
       "      <td>-4.37280</td>\n",
       "      <td>18.8140</td>\n",
       "      <td>65.591</td>\n",
       "      <td>99.102</td>\n",
       "      <td>118.160</td>\n",
       "      <td>1699.5</td>\n",
       "    </tr>\n",
       "    <tr>\n",
       "      <th>299</th>\n",
       "      <td>-20.80500</td>\n",
       "      <td>30.3240</td>\n",
       "      <td>57.158</td>\n",
       "      <td>66.992</td>\n",
       "      <td>103.660</td>\n",
       "      <td>1918.0</td>\n",
       "    </tr>\n",
       "  </tbody>\n",
       "</table>\n",
       "<p>300 rows × 6 columns</p>\n",
       "</div>"
      ],
      "text/plain": [
       "           X1       X2      X3      X4       X5       Y\n",
       "0    14.47200  23.5520  67.921  76.212   88.292  1583.2\n",
       "1     8.77720  23.4560  45.202  74.720   95.002  1367.7\n",
       "2    13.00300  17.8300  67.540  64.430  114.630  1655.2\n",
       "3    -6.35780  30.4270  46.573  93.653   67.497  1239.7\n",
       "4    25.58100   7.4073  30.896  72.519   98.709  2010.4\n",
       "..        ...      ...     ...     ...      ...     ...\n",
       "295   9.24530  10.1590  80.555  72.726   99.786  1503.8\n",
       "296   0.38753  44.1610  80.662  72.227  115.950  1639.8\n",
       "297  11.52900 -12.7620  57.399  71.702  116.500  1524.2\n",
       "298  -4.37280  18.8140  65.591  99.102  118.160  1699.5\n",
       "299 -20.80500  30.3240  57.158  66.992  103.660  1918.0\n",
       "\n",
       "[300 rows x 6 columns]"
      ]
     },
     "execution_count": 2,
     "metadata": {},
     "output_type": "execute_result"
    }
   ],
   "source": [
    "## Reading the data from CSV file.\n",
    "data = pd.read_csv('input_data.csv')\n",
    "data"
   ]
  },
  {
   "cell_type": "code",
   "execution_count": 3,
   "metadata": {},
   "outputs": [],
   "source": [
    "## Separating data for independent and dependent variable.\n",
    "x1 = data['X1'].to_numpy()\n",
    "x2 = data['X2'].to_numpy()\n",
    "x3 = data['X3'].to_numpy()\n",
    "x4 = data['X4'].to_numpy()\n",
    "x5 = data['X5'].to_numpy()\n",
    "y = data['Y'].to_numpy() "
   ]
  },
  {
   "cell_type": "code",
   "execution_count": 4,
   "metadata": {},
   "outputs": [
    {
     "data": {
      "text/plain": [
       "(6.033567975333334, 148.51399372523088)"
      ]
     },
     "execution_count": 4,
     "metadata": {},
     "output_type": "execute_result"
    },
    {
     "data": {
      "image/png": "[encoded data removed]",
      "text/plain": [
       "<Figure size 432x288 with 1 Axes>"
      ]
     },
     "metadata": {
      "needs_background": "light"
     },
     "output_type": "display_data"
    },
    {
     "data": {
      "image/png": "[encoded data removed]",
      "text/plain": [
       "<Figure size 360x288 with 1 Axes>"
      ]
     },
     "metadata": {
      "needs_background": "light"
     },
     "output_type": "display_data"
    }
   ],
   "source": [
    "## Calculating mean, variance, histogram, box-plot for X1.\n",
    "n_bins = 30\n",
    "sns.boxplot(x1)\n",
    "x1_mean = np.mean(x1)\n",
    "x1_var = np.var(x1)\n",
    "fig, ax = plt.subplots(figsize =(5, 4)) \n",
    "ax.hist(x1, bins = n_bins)\n",
    "plt.xlabel(\"X1 values\") \n",
    "plt.ylabel(\"Frequency\")\n",
    "x1_mean, x1_var"
   ]
  },
  {
   "cell_type": "code",
   "execution_count": 5,
   "metadata": {},
   "outputs": [
    {
     "data": {
      "text/plain": [
       "(26.919584733333334, 151.17199258958894)"
      ]
     },
     "execution_count": 5,
     "metadata": {},
     "output_type": "execute_result"
    },
    {
     "data": {
      "image/png": "[encoded data removed]",
      "text/plain": [
       "<Figure size 432x288 with 1 Axes>"
      ]
     },
     "metadata": {
      "needs_background": "light"
     },
     "output_type": "display_data"
    },
    {
     "data": {
      "image/png": "[encoded data removed]",
      "text/plain": [
       "<Figure size 360x288 with 1 Axes>"
      ]
     },
     "metadata": {
      "needs_background": "light"
     },
     "output_type": "display_data"
    }
   ],
   "source": [
    "## Calculating mean, variance, histogram, box-plot for X2.\n",
    "n_bins = 30\n",
    "sns.boxplot(x2)\n",
    "x2_mean = np.mean(x2)\n",
    "x2_var = np.var(x2)\n",
    "fig, ax = plt.subplots(figsize =(5,4)) \n",
    "ax.hist(x2, bins = n_bins)\n",
    "plt.xlabel(\"X2 values\") \n",
    "plt.ylabel(\"Frequency\")\n",
    "x2_mean, x2_var"
   ]
  },
  {
   "cell_type": "code",
   "execution_count": 6,
   "metadata": {},
   "outputs": [
    {
     "data": {
      "text/plain": [
       "(60.4127, 167.09651360333334)"
      ]
     },
     "execution_count": 6,
     "metadata": {},
     "output_type": "execute_result"
    },
    {
     "data": {
      "image/png": "[encoded data removed]",
      "text/plain": [
       "<Figure size 432x288 with 1 Axes>"
      ]
     },
     "metadata": {
      "needs_background": "light"
     },
     "output_type": "display_data"
    },
    {
     "data": {
      "image/png": "[encoded data removed]",
      "text/plain": [
       "<Figure size 360x288 with 1 Axes>"
      ]
     },
     "metadata": {
      "needs_background": "light"
     },
     "output_type": "display_data"
    }
   ],
   "source": [
    "## Calculating mean, variance, histogram, box-plot for X3.\n",
    "n_bins = 30\n",
    "sns.boxplot(x3)\n",
    "x3_mean = np.mean(x3)\n",
    "x3_var = np.var(x3)\n",
    "fig, ax = plt.subplots(figsize =(5,4)) \n",
    "ax.hist(x3, bins = n_bins)\n",
    "plt.xlabel(\"X3 values\") \n",
    "plt.ylabel(\"Frequency\")\n",
    "x3_mean, x3_var"
   ]
  },
  {
   "cell_type": "code",
   "execution_count": 7,
   "metadata": {},
   "outputs": [
    {
     "data": {
      "text/plain": [
       "(80.02675333333333, 142.09622641915556)"
      ]
     },
     "execution_count": 7,
     "metadata": {},
     "output_type": "execute_result"
    },
    {
     "data": {
      "image/png": "[encoded data removed]",
      "text/plain": [
       "<Figure size 432x288 with 1 Axes>"
      ]
     },
     "metadata": {
      "needs_background": "light"
     },
     "output_type": "display_data"
    },
    {
     "data": {
      "image/png": "[encoded data removed]",
      "text/plain": [
       "<Figure size 360x288 with 1 Axes>"
      ]
     },
     "metadata": {
      "needs_background": "light"
     },
     "output_type": "display_data"
    }
   ],
   "source": [
    "## Calculating mean, variance, histogram, box-plot for X4.\n",
    "n_bins = 30\n",
    "sns.boxplot(x4)\n",
    "x4_mean = np.mean(x4)\n",
    "x4_var = np.var(x4)\n",
    "fig, ax = plt.subplots(figsize =(5, 4)) \n",
    "ax.hist(x4, bins = n_bins)\n",
    "plt.xlabel(\"X4 values\") \n",
    "plt.ylabel(\"Frequency\")\n",
    "x4_mean, x4_var"
   ]
  },
  {
   "cell_type": "code",
   "execution_count": 8,
   "metadata": {},
   "outputs": [
    {
     "data": {
      "text/plain": [
       "(98.92907666666667, 157.46047649745557)"
      ]
     },
     "execution_count": 8,
     "metadata": {},
     "output_type": "execute_result"
    },
    {
     "data": {
      "image/png": "[encoded data removed]",
      "text/plain": [
       "<Figure size 432x288 with 1 Axes>"
      ]
     },
     "metadata": {
      "needs_background": "light"
     },
     "output_type": "display_data"
    },
    {
     "data": {
      "image/png": "[encoded data removed]",
      "text/plain": [
       "<Figure size 360x288 with 1 Axes>"
      ]
     },
     "metadata": {
      "needs_background": "light"
     },
     "output_type": "display_data"
    }
   ],
   "source": [
    "## Calculating mean, variance, histogram, box-plot for X5.\n",
    "n_bins = 30\n",
    "sns.boxplot(x5)\n",
    "x5_mean = np.mean(x5)\n",
    "x5_var = np.var(x5)\n",
    "fig, ax = plt.subplots(figsize =(5, 4)) \n",
    "ax.hist(x5, bins = n_bins)\n",
    "plt.xlabel(\"X5 values\") \n",
    "plt.ylabel(\"Frequency\")\n",
    "x5_mean, x5_var"
   ]
  },
  {
   "cell_type": "code",
   "execution_count": 9,
   "metadata": {},
   "outputs": [
    {
     "data": {
      "text/html": [
       "<div>\n",
       "<style scoped>\n",
       "    .dataframe tbody tr th:only-of-type {\n",
       "        vertical-align: middle;\n",
       "    }\n",
       "\n",
       "    .dataframe tbody tr th {\n",
       "        vertical-align: top;\n",
       "    }\n",
       "\n",
       "    .dataframe thead th {\n",
       "        text-align: right;\n",
       "    }\n",
       "</style>\n",
       "<table border=\"1\" class=\"dataframe\">\n",
       "  <thead>\n",
       "    <tr style=\"text-align: right;\">\n",
       "      <th></th>\n",
       "      <th>X1</th>\n",
       "      <th>X2</th>\n",
       "      <th>X3</th>\n",
       "      <th>X4</th>\n",
       "      <th>X5</th>\n",
       "      <th>Y</th>\n",
       "    </tr>\n",
       "  </thead>\n",
       "  <tbody>\n",
       "    <tr>\n",
       "      <th>X1</th>\n",
       "      <td>1.000000</td>\n",
       "      <td>0.022148</td>\n",
       "      <td>-0.026745</td>\n",
       "      <td>0.039889</td>\n",
       "      <td>0.002104</td>\n",
       "      <td>0.568159</td>\n",
       "    </tr>\n",
       "    <tr>\n",
       "      <th>X2</th>\n",
       "      <td>0.022148</td>\n",
       "      <td>1.000000</td>\n",
       "      <td>-0.016273</td>\n",
       "      <td>0.108075</td>\n",
       "      <td>-0.064093</td>\n",
       "      <td>0.241326</td>\n",
       "    </tr>\n",
       "    <tr>\n",
       "      <th>X3</th>\n",
       "      <td>-0.026745</td>\n",
       "      <td>-0.016273</td>\n",
       "      <td>1.000000</td>\n",
       "      <td>-0.037981</td>\n",
       "      <td>-0.022852</td>\n",
       "      <td>0.139072</td>\n",
       "    </tr>\n",
       "    <tr>\n",
       "      <th>X4</th>\n",
       "      <td>0.039889</td>\n",
       "      <td>0.108075</td>\n",
       "      <td>-0.037981</td>\n",
       "      <td>1.000000</td>\n",
       "      <td>0.004115</td>\n",
       "      <td>0.264501</td>\n",
       "    </tr>\n",
       "    <tr>\n",
       "      <th>X5</th>\n",
       "      <td>0.002104</td>\n",
       "      <td>-0.064093</td>\n",
       "      <td>-0.022852</td>\n",
       "      <td>0.004115</td>\n",
       "      <td>1.000000</td>\n",
       "      <td>0.233390</td>\n",
       "    </tr>\n",
       "    <tr>\n",
       "      <th>Y</th>\n",
       "      <td>0.568159</td>\n",
       "      <td>0.241326</td>\n",
       "      <td>0.139072</td>\n",
       "      <td>0.264501</td>\n",
       "      <td>0.233390</td>\n",
       "      <td>1.000000</td>\n",
       "    </tr>\n",
       "  </tbody>\n",
       "</table>\n",
       "</div>"
      ],
      "text/plain": [
       "          X1        X2        X3        X4        X5         Y\n",
       "X1  1.000000  0.022148 -0.026745  0.039889  0.002104  0.568159\n",
       "X2  0.022148  1.000000 -0.016273  0.108075 -0.064093  0.241326\n",
       "X3 -0.026745 -0.016273  1.000000 -0.037981 -0.022852  0.139072\n",
       "X4  0.039889  0.108075 -0.037981  1.000000  0.004115  0.264501\n",
       "X5  0.002104 -0.064093 -0.022852  0.004115  1.000000  0.233390\n",
       "Y   0.568159  0.241326  0.139072  0.264501  0.233390  1.000000"
      ]
     },
     "execution_count": 9,
     "metadata": {},
     "output_type": "execute_result"
    }
   ],
   "source": [
    "corr_matrix = data.corr()\n",
    "corr_matrix"
   ]
  },
  {
   "cell_type": "markdown",
   "metadata": {},
   "source": [
    "Task 1 comments:\n",
    "I have calculate the mean, variance, box plots for each of the independent variable X1, X2, X3, X4, X5 and also calculate the histogram for each of the variable with bin size of 30. The box plot is used to find out the outliers present in individual independent variable. As shown in above correlation matrix the correlation value for each of individual variable including the dependent variable is calculate. From the correlation matrix we can clearly see that all the independent variables are uncorrelated with each other. While all the the independent variables are correlated to the dependent variabl Y with some value with X1 having highest correlation with Y."
   ]
  },
  {
   "cell_type": "code",
   "execution_count": 10,
   "metadata": {},
   "outputs": [
    {
     "data": {
      "text/html": [
       "<div>\n",
       "<style scoped>\n",
       "    .dataframe tbody tr th:only-of-type {\n",
       "        vertical-align: middle;\n",
       "    }\n",
       "\n",
       "    .dataframe tbody tr th {\n",
       "        vertical-align: top;\n",
       "    }\n",
       "\n",
       "    .dataframe thead th {\n",
       "        text-align: right;\n",
       "    }\n",
       "</style>\n",
       "<table border=\"1\" class=\"dataframe\">\n",
       "  <thead>\n",
       "    <tr style=\"text-align: right;\">\n",
       "      <th></th>\n",
       "      <th>X1</th>\n",
       "      <th>Y</th>\n",
       "    </tr>\n",
       "  </thead>\n",
       "  <tbody>\n",
       "    <tr>\n",
       "      <th>0</th>\n",
       "      <td>14.47200</td>\n",
       "      <td>1583.2</td>\n",
       "    </tr>\n",
       "    <tr>\n",
       "      <th>1</th>\n",
       "      <td>8.77720</td>\n",
       "      <td>1367.7</td>\n",
       "    </tr>\n",
       "    <tr>\n",
       "      <th>2</th>\n",
       "      <td>13.00300</td>\n",
       "      <td>1655.2</td>\n",
       "    </tr>\n",
       "    <tr>\n",
       "      <th>3</th>\n",
       "      <td>-6.35780</td>\n",
       "      <td>1239.7</td>\n",
       "    </tr>\n",
       "    <tr>\n",
       "      <th>4</th>\n",
       "      <td>25.58100</td>\n",
       "      <td>2010.4</td>\n",
       "    </tr>\n",
       "    <tr>\n",
       "      <th>...</th>\n",
       "      <td>...</td>\n",
       "      <td>...</td>\n",
       "    </tr>\n",
       "    <tr>\n",
       "      <th>295</th>\n",
       "      <td>9.24530</td>\n",
       "      <td>1503.8</td>\n",
       "    </tr>\n",
       "    <tr>\n",
       "      <th>296</th>\n",
       "      <td>0.38753</td>\n",
       "      <td>1639.8</td>\n",
       "    </tr>\n",
       "    <tr>\n",
       "      <th>297</th>\n",
       "      <td>11.52900</td>\n",
       "      <td>1524.2</td>\n",
       "    </tr>\n",
       "    <tr>\n",
       "      <th>298</th>\n",
       "      <td>-4.37280</td>\n",
       "      <td>1699.5</td>\n",
       "    </tr>\n",
       "    <tr>\n",
       "      <th>299</th>\n",
       "      <td>-20.80500</td>\n",
       "      <td>1918.0</td>\n",
       "    </tr>\n",
       "  </tbody>\n",
       "</table>\n",
       "<p>300 rows × 2 columns</p>\n",
       "</div>"
      ],
      "text/plain": [
       "           X1       Y\n",
       "0    14.47200  1583.2\n",
       "1     8.77720  1367.7\n",
       "2    13.00300  1655.2\n",
       "3    -6.35780  1239.7\n",
       "4    25.58100  2010.4\n",
       "..        ...     ...\n",
       "295   9.24530  1503.8\n",
       "296   0.38753  1639.8\n",
       "297  11.52900  1524.2\n",
       "298  -4.37280  1699.5\n",
       "299 -20.80500  1918.0\n",
       "\n",
       "[300 rows x 2 columns]"
      ]
     },
     "execution_count": 10,
     "metadata": {},
     "output_type": "execute_result"
    }
   ],
   "source": [
    "## Getting X1, Y for linear regression\n",
    "data_task2 = data[['X1','Y']]\n",
    "data_task2"
   ]
  },
  {
   "cell_type": "code",
   "execution_count": 11,
   "metadata": {},
   "outputs": [
    {
     "data": {
      "text/html": [
       "<table class=\"simpletable\">\n",
       "<caption>OLS Regression Results</caption>\n",
       "<tr>\n",
       "  <th>Dep. Variable:</th>            <td>y</td>        <th>  R-squared:         </th> <td>   0.204</td>\n",
       "</tr>\n",
       "<tr>\n",
       "  <th>Model:</th>                   <td>OLS</td>       <th>  Adj. R-squared:    </th> <td>   0.201</td>\n",
       "</tr>\n",
       "<tr>\n",
       "  <th>Method:</th>             <td>Least Squares</td>  <th>  F-statistic:       </th> <td>   74.89</td>\n",
       "</tr>\n",
       "<tr>\n",
       "  <th>Date:</th>             <td>Wed, 07 Oct 2020</td> <th>  Prob (F-statistic):</th> <td>3.41e-16</td>\n",
       "</tr>\n",
       "<tr>\n",
       "  <th>Time:</th>                 <td>18:31:40</td>     <th>  Log-Likelihood:    </th> <td> -2046.7</td>\n",
       "</tr>\n",
       "<tr>\n",
       "  <th>No. Observations:</th>      <td>   294</td>      <th>  AIC:               </th> <td>   4097.</td>\n",
       "</tr>\n",
       "<tr>\n",
       "  <th>Df Residuals:</th>          <td>   292</td>      <th>  BIC:               </th> <td>   4105.</td>\n",
       "</tr>\n",
       "<tr>\n",
       "  <th>Df Model:</th>              <td>     1</td>      <th>                     </th>     <td> </td>   \n",
       "</tr>\n",
       "<tr>\n",
       "  <th>Covariance Type:</th>      <td>nonrobust</td>    <th>                     </th>     <td> </td>   \n",
       "</tr>\n",
       "</table>\n",
       "<table class=\"simpletable\">\n",
       "<tr>\n",
       "    <td></td>       <th>coef</th>     <th>std err</th>      <th>t</th>      <th>P>|t|</th>  <th>[0.025</th>    <th>0.975]</th>  \n",
       "</tr>\n",
       "<tr>\n",
       "  <th>const</th> <td> 1544.9989</td> <td>   16.533</td> <td>   93.449</td> <td> 0.000</td> <td> 1512.460</td> <td> 1577.538</td>\n",
       "</tr>\n",
       "<tr>\n",
       "  <th>x1</th>    <td>   11.4074</td> <td>    1.318</td> <td>    8.654</td> <td> 0.000</td> <td>    8.813</td> <td>   14.002</td>\n",
       "</tr>\n",
       "</table>\n",
       "<table class=\"simpletable\">\n",
       "<tr>\n",
       "  <th>Omnibus:</th>       <td>61.379</td> <th>  Durbin-Watson:     </th> <td>   2.122</td>\n",
       "</tr>\n",
       "<tr>\n",
       "  <th>Prob(Omnibus):</th> <td> 0.000</td> <th>  Jarque-Bera (JB):  </th> <td> 111.031</td>\n",
       "</tr>\n",
       "<tr>\n",
       "  <th>Skew:</th>          <td> 1.126</td> <th>  Prob(JB):          </th> <td>7.76e-25</td>\n",
       "</tr>\n",
       "<tr>\n",
       "  <th>Kurtosis:</th>      <td> 4.998</td> <th>  Cond. No.          </th> <td>    13.9</td>\n",
       "</tr>\n",
       "</table><br/><br/>Warnings:<br/>[1] Standard Errors assume that the covariance matrix of the errors is correctly specified."
      ],
      "text/plain": [
       "<class 'statsmodels.iolib.summary.Summary'>\n",
       "\"\"\"\n",
       "                            OLS Regression Results                            \n",
       "==============================================================================\n",
       "Dep. Variable:                      y   R-squared:                       0.204\n",
       "Model:                            OLS   Adj. R-squared:                  0.201\n",
       "Method:                 Least Squares   F-statistic:                     74.89\n",
       "Date:                Wed, 07 Oct 2020   Prob (F-statistic):           3.41e-16\n",
       "Time:                        18:31:40   Log-Likelihood:                -2046.7\n",
       "No. Observations:                 294   AIC:                             4097.\n",
       "Df Residuals:                     292   BIC:                             4105.\n",
       "Df Model:                           1                                         \n",
       "Covariance Type:            nonrobust                                         \n",
       "==============================================================================\n",
       "                 coef    std err          t      P>|t|      [0.025      0.975]\n",
       "------------------------------------------------------------------------------\n",
       "const       1544.9989     16.533     93.449      0.000    1512.460    1577.538\n",
       "x1            11.4074      1.318      8.654      0.000       8.813      14.002\n",
       "==============================================================================\n",
       "Omnibus:                       61.379   Durbin-Watson:                   2.122\n",
       "Prob(Omnibus):                  0.000   Jarque-Bera (JB):              111.031\n",
       "Skew:                           1.126   Prob(JB):                     7.76e-25\n",
       "Kurtosis:                       4.998   Cond. No.                         13.9\n",
       "==============================================================================\n",
       "\n",
       "Warnings:\n",
       "[1] Standard Errors assume that the covariance matrix of the errors is correctly specified.\n",
       "\"\"\""
      ]
     },
     "execution_count": 11,
     "metadata": {},
     "output_type": "execute_result"
    }
   ],
   "source": [
    "## Removing outliers by calculating z-score for the data fitting linear regression model showing model summary.\n",
    "z = np.abs(stats.zscore(data_task2))\n",
    "data_task2 = data_task2[(z<3).all(axis=1)]\n",
    "x1, y = data_task2['X1'].to_numpy(), data_task2['Y'].to_numpy()\n",
    "x = sm.add_constant(x1)\n",
    "model = sm.OLS(y, x).fit()\n",
    "y_pred = model.predict(x)\n",
    "model.summary()"
   ]
  },
  {
   "cell_type": "code",
   "execution_count": 12,
   "metadata": {},
   "outputs": [
    {
     "data": {
      "text/plain": [
       "Text(0, 0.5, 'Y')"
      ]
     },
     "execution_count": 12,
     "metadata": {},
     "output_type": "execute_result"
    },
    {
     "data": {
      "image/png": "[encoded data removed]",
      "text/plain": [
       "<Figure size 432x288 with 1 Axes>"
      ]
     },
     "metadata": {
      "needs_background": "light"
     },
     "output_type": "display_data"
    }
   ],
   "source": [
    "## Scatter plot for the predicted values and X1.\n",
    "plt.scatter(x1,y)\n",
    "plt.plot(x1, y_pred, color = 'red', linewidth = 3 )\n",
    "plt.xlabel('X1')\n",
    "plt.ylabel('Y')"
   ]
  },
  {
   "cell_type": "code",
   "execution_count": 13,
   "metadata": {},
   "outputs": [
    {
     "data": {
      "image/png": "[encoded data removed]",
      "text/plain": [
       "<Figure size 432x288 with 1 Axes>"
      ]
     },
     "metadata": {
      "needs_background": "light"
     },
     "output_type": "display_data"
    }
   ],
   "source": [
    "## Plotting QQ plot for residuals.\n",
    "error = np.subtract(y, y_pred)\n",
    "error_var = np.var(error)\n",
    "fig = sm.qqplot(error, loc = 0, scale = np.sqrt(error_var), line='q')\n",
    "plt.show()"
   ]
  },
  {
   "cell_type": "code",
   "execution_count": 14,
   "metadata": {},
   "outputs": [
    {
     "data": {
      "text/plain": [
       "Text(0, 0.5, 'Frequency')"
      ]
     },
     "execution_count": 14,
     "metadata": {},
     "output_type": "execute_result"
    },
    {
     "data": {
      "image/png": "[encoded data removed]",
      "text/plain": [
       "<Figure size 360x288 with 1 Axes>"
      ]
     },
     "metadata": {
      "needs_background": "light"
     },
     "output_type": "display_data"
    }
   ],
   "source": [
    "## Plotting histogram of residuals.\n",
    "n_bins = 30\n",
    "fig, ax = plt.subplots(figsize =(5, 4)) \n",
    "ax.hist(error, bins = n_bins)\n",
    "plt.xlabel(\"error\") \n",
    "plt.ylabel(\"Frequency\")"
   ]
  },
  {
   "cell_type": "code",
   "execution_count": 15,
   "metadata": {},
   "outputs": [
    {
     "name": "stdout",
     "output_type": "stream",
     "text": [
      "Chi squared test doesnt satisfy hypothesis not accepted\n"
     ]
    },
    {
     "data": {
      "text/plain": [
       "Text(0, 0.5, 'residuals')"
      ]
     },
     "execution_count": 15,
     "metadata": {},
     "output_type": "execute_result"
    },
    {
     "data": {
      "image/png": "[encoded data removed]",
      "text/plain": [
       "<Figure size 432x288 with 1 Axes>"
      ]
     },
     "metadata": {
      "needs_background": "light"
     },
     "output_type": "display_data"
    }
   ],
   "source": [
    "## Chi-squared test hypothesis.\n",
    "k2, prob = stats.normaltest(error)\n",
    "if prob < 0.05:\n",
    "    print(\"Chi squared test doesnt satisfy hypothesis not accepted\")\n",
    "else:\n",
    "    print('Chi squared test passed hypothesis accepted')\n",
    "    \n",
    "plt.scatter(y_pred, error)\n",
    "plt.xlabel('y_pred')\n",
    "plt.ylabel('residuals')"
   ]
  },
  {
   "cell_type": "code",
   "execution_count": 16,
   "metadata": {},
   "outputs": [
    {
     "data": {
      "text/html": [
       "<table class=\"simpletable\">\n",
       "<caption>OLS Regression Results</caption>\n",
       "<tr>\n",
       "  <th>Dep. Variable:</th>            <td>y</td>        <th>  R-squared:         </th> <td>   0.757</td>\n",
       "</tr>\n",
       "<tr>\n",
       "  <th>Model:</th>                   <td>OLS</td>       <th>  Adj. R-squared:    </th> <td>   0.755</td>\n",
       "</tr>\n",
       "<tr>\n",
       "  <th>Method:</th>             <td>Least Squares</td>  <th>  F-statistic:       </th> <td>   452.5</td>\n",
       "</tr>\n",
       "<tr>\n",
       "  <th>Date:</th>             <td>Wed, 07 Oct 2020</td> <th>  Prob (F-statistic):</th> <td>4.83e-90</td>\n",
       "</tr>\n",
       "<tr>\n",
       "  <th>Time:</th>                 <td>18:31:47</td>     <th>  Log-Likelihood:    </th> <td> -1872.5</td>\n",
       "</tr>\n",
       "<tr>\n",
       "  <th>No. Observations:</th>      <td>   294</td>      <th>  AIC:               </th> <td>   3751.</td>\n",
       "</tr>\n",
       "<tr>\n",
       "  <th>Df Residuals:</th>          <td>   291</td>      <th>  BIC:               </th> <td>   3762.</td>\n",
       "</tr>\n",
       "<tr>\n",
       "  <th>Df Model:</th>              <td>     2</td>      <th>                     </th>     <td> </td>   \n",
       "</tr>\n",
       "<tr>\n",
       "  <th>Covariance Type:</th>      <td>nonrobust</td>    <th>                     </th>     <td> </td>   \n",
       "</tr>\n",
       "</table>\n",
       "<table class=\"simpletable\">\n",
       "<tr>\n",
       "    <td></td>       <th>coef</th>     <th>std err</th>      <th>t</th>      <th>P>|t|</th>  <th>[0.025</th>    <th>0.975]</th>  \n",
       "</tr>\n",
       "<tr>\n",
       "  <th>const</th> <td> 1402.1781</td> <td>   10.710</td> <td>  130.919</td> <td> 0.000</td> <td> 1381.099</td> <td> 1423.257</td>\n",
       "</tr>\n",
       "<tr>\n",
       "  <th>X1</th>    <td>   -0.5828</td> <td>    0.866</td> <td>   -0.673</td> <td> 0.502</td> <td>   -2.288</td> <td>    1.122</td>\n",
       "</tr>\n",
       "<tr>\n",
       "  <th>X1^2</th>  <td>    1.3168</td> <td>    0.051</td> <td>   25.708</td> <td> 0.000</td> <td>    1.216</td> <td>    1.418</td>\n",
       "</tr>\n",
       "</table>\n",
       "<table class=\"simpletable\">\n",
       "<tr>\n",
       "  <th>Omnibus:</th>       <td> 0.776</td> <th>  Durbin-Watson:     </th> <td>   2.038</td>\n",
       "</tr>\n",
       "<tr>\n",
       "  <th>Prob(Omnibus):</th> <td> 0.678</td> <th>  Jarque-Bera (JB):  </th> <td>   0.869</td>\n",
       "</tr>\n",
       "<tr>\n",
       "  <th>Skew:</th>          <td> 0.115</td> <th>  Prob(JB):          </th> <td>   0.647</td>\n",
       "</tr>\n",
       "<tr>\n",
       "  <th>Kurtosis:</th>      <td> 2.867</td> <th>  Cond. No.          </th> <td>    321.</td>\n",
       "</tr>\n",
       "</table><br/><br/>Warnings:<br/>[1] Standard Errors assume that the covariance matrix of the errors is correctly specified."
      ],
      "text/plain": [
       "<class 'statsmodels.iolib.summary.Summary'>\n",
       "\"\"\"\n",
       "                            OLS Regression Results                            \n",
       "==============================================================================\n",
       "Dep. Variable:                      y   R-squared:                       0.757\n",
       "Model:                            OLS   Adj. R-squared:                  0.755\n",
       "Method:                 Least Squares   F-statistic:                     452.5\n",
       "Date:                Wed, 07 Oct 2020   Prob (F-statistic):           4.83e-90\n",
       "Time:                        18:31:47   Log-Likelihood:                -1872.5\n",
       "No. Observations:                 294   AIC:                             3751.\n",
       "Df Residuals:                     291   BIC:                             3762.\n",
       "Df Model:                           2                                         \n",
       "Covariance Type:            nonrobust                                         \n",
       "==============================================================================\n",
       "                 coef    std err          t      P>|t|      [0.025      0.975]\n",
       "------------------------------------------------------------------------------\n",
       "const       1402.1781     10.710    130.919      0.000    1381.099    1423.257\n",
       "X1            -0.5828      0.866     -0.673      0.502      -2.288       1.122\n",
       "X1^2           1.3168      0.051     25.708      0.000       1.216       1.418\n",
       "==============================================================================\n",
       "Omnibus:                        0.776   Durbin-Watson:                   2.038\n",
       "Prob(Omnibus):                  0.678   Jarque-Bera (JB):                0.869\n",
       "Skew:                           0.115   Prob(JB):                        0.647\n",
       "Kurtosis:                       2.867   Cond. No.                         321.\n",
       "==============================================================================\n",
       "\n",
       "Warnings:\n",
       "[1] Standard Errors assume that the covariance matrix of the errors is correctly specified.\n",
       "\"\"\""
      ]
     },
     "execution_count": 16,
     "metadata": {},
     "output_type": "execute_result"
    }
   ],
   "source": [
    "## Implementation for polynomial regression using X1.\n",
    "data_task2 = data[['X1','Y']]\n",
    "z = np.abs(stats.zscore(data_task2))\n",
    "data_task2 = data_task2[(z<3).all(axis=1)]\n",
    "data_task2['X1^2'] = data_task2['X1'] ** 2\n",
    "x1, y = data_task2[['X1', 'X1^2']], data_task2['Y'].to_numpy()\n",
    "x = sm.add_constant(x1)\n",
    "model = sm.OLS(y, x).fit()\n",
    "y_pred = model.predict(x)\n",
    "model.summary()"
   ]
  },
  {
   "cell_type": "code",
   "execution_count": 17,
   "metadata": {},
   "outputs": [
    {
     "data": {
      "text/plain": [
       "Text(0, 0.5, 'Y')"
      ]
     },
     "execution_count": 17,
     "metadata": {},
     "output_type": "execute_result"
    },
    {
     "data": {
      "image/png": "[encoded data removed]",
      "text/plain": [
       "<Figure size 432x288 with 1 Axes>"
      ]
     },
     "metadata": {
      "needs_background": "light"
     },
     "output_type": "display_data"
    }
   ],
   "source": [
    "## Scatter plot for the predicted values and X1.\n",
    "plt.scatter(x1['X1'],y)\n",
    "plt.plot(x1['X1'], y_pred, 'r*', linewidth = 3 )\n",
    "plt.xlabel('X1')\n",
    "plt.ylabel('Y')"
   ]
  },
  {
   "cell_type": "code",
   "execution_count": 18,
   "metadata": {},
   "outputs": [
    {
     "data": {
      "image/png": "[encoded data removed]",
      "text/plain": [
       "<Figure size 432x288 with 1 Axes>"
      ]
     },
     "metadata": {
      "needs_background": "light"
     },
     "output_type": "display_data"
    }
   ],
   "source": [
    "## Plotting QQ plot for residuals.\n",
    "error = np.subtract(y, y_pred)\n",
    "error_var = np.var(error)\n",
    "fig = sm.qqplot(error, loc = 0, scale = np.sqrt(error_var), line='q')\n",
    "plt.show()"
   ]
  },
  {
   "cell_type": "code",
   "execution_count": 19,
   "metadata": {},
   "outputs": [
    {
     "data": {
      "text/plain": [
       "Text(0, 0.5, 'Frequency')"
      ]
     },
     "execution_count": 19,
     "metadata": {},
     "output_type": "execute_result"
    },
    {
     "data": {
      "image/png": "[encoded data removed]",
      "text/plain": [
       "<Figure size 360x288 with 1 Axes>"
      ]
     },
     "metadata": {
      "needs_background": "light"
     },
     "output_type": "display_data"
    }
   ],
   "source": [
    "## Plotting histogram for residuals.\n",
    "n_bins = 30\n",
    "fig, ax = plt.subplots(figsize =(5, 4)) \n",
    "ax.hist(error, bins = n_bins)\n",
    "plt.xlabel(\"error\") \n",
    "plt.ylabel(\"Frequency\")"
   ]
  },
  {
   "cell_type": "code",
   "execution_count": 20,
   "metadata": {},
   "outputs": [
    {
     "name": "stdout",
     "output_type": "stream",
     "text": [
      "Chi squared test passed hypothesis accepted with prob =  0.6783260030766237\n"
     ]
    },
    {
     "data": {
      "text/plain": [
       "Text(0, 0.5, 'residuals')"
      ]
     },
     "execution_count": 20,
     "metadata": {},
     "output_type": "execute_result"
    },
    {
     "data": {
      "image/png": "[encoded data removed]",
      "text/plain": [
       "<Figure size 432x288 with 1 Axes>"
      ]
     },
     "metadata": {
      "needs_background": "light"
     },
     "output_type": "display_data"
    }
   ],
   "source": [
    "## Chi-squared test hypothesis.\n",
    "k2, prob = stats.normaltest(error)\n",
    "if prob < 0.05:\n",
    "    print(\"Chi squared test doesnt satisfy hypothesis not accepted with prob = \", prob)\n",
    "else:\n",
    "    print('Chi squared test passed hypothesis accepted with prob = ', prob)\n",
    "    \n",
    "plt.scatter(y_pred, error)\n",
    "plt.xlabel('y_pred')\n",
    "plt.ylabel('residuals')"
   ]
  },
  {
   "cell_type": "markdown",
   "metadata": {},
   "source": [
    "Task 2 comments \n",
    "To remove the ouliers from the data i have used zscore for every data point and removed the data points which are 3standar deviation apart from the mean value. For this task I have only considered the independent variable X1. first we have used simply linear regression with Y = a0 + a1X1 + e. For the linear regression i have used statsmodel as it gives easy summary and the parameters for the model. For the linear regression we can see from the regreesion line that it is just a line which deivide the data and from the r^2 value which is 0.165 which is very low shows that this model doesnt noot fit the data very well. Also from the residual analysis we can see that QQ plot is signifcantly close to the line but the histogram for residuals with bin size of 30 shows it is similar to normal distribution but not exactly the nomal distribution. And from scatter plot for residuals we can see that the residuals are uncorrelated as there are no trends in between them. \n",
    "Now when we used the polynomial regression with independent variable X1. Y = a0 + a1X1 + a2X1^2 + e. From the model summary and the regression line plot we can clearly see that the model fits the data very well. Also the R^2 value which is 0.75 which is much improved that the linear regression. The QQ plot also matches the line for Normal distribution and the Chi-squared test hypothesis is also expceted. From the histogram of residuals we can see that the do follow normal distribution and the scatter plot do not show any kind of correlation od trend between them."
   ]
  },
  {
   "cell_type": "code",
   "execution_count": 21,
   "metadata": {},
   "outputs": [
    {
     "data": {
      "text/html": [
       "<div>\n",
       "<style scoped>\n",
       "    .dataframe tbody tr th:only-of-type {\n",
       "        vertical-align: middle;\n",
       "    }\n",
       "\n",
       "    .dataframe tbody tr th {\n",
       "        vertical-align: top;\n",
       "    }\n",
       "\n",
       "    .dataframe thead th {\n",
       "        text-align: right;\n",
       "    }\n",
       "</style>\n",
       "<table border=\"1\" class=\"dataframe\">\n",
       "  <thead>\n",
       "    <tr style=\"text-align: right;\">\n",
       "      <th></th>\n",
       "      <th>X1</th>\n",
       "      <th>X2</th>\n",
       "      <th>X3</th>\n",
       "      <th>X4</th>\n",
       "      <th>X5</th>\n",
       "      <th>Y</th>\n",
       "    </tr>\n",
       "  </thead>\n",
       "  <tbody>\n",
       "    <tr>\n",
       "      <th>0</th>\n",
       "      <td>14.47200</td>\n",
       "      <td>23.5520</td>\n",
       "      <td>67.921</td>\n",
       "      <td>76.212</td>\n",
       "      <td>88.292</td>\n",
       "      <td>1583.2</td>\n",
       "    </tr>\n",
       "    <tr>\n",
       "      <th>1</th>\n",
       "      <td>8.77720</td>\n",
       "      <td>23.4560</td>\n",
       "      <td>45.202</td>\n",
       "      <td>74.720</td>\n",
       "      <td>95.002</td>\n",
       "      <td>1367.7</td>\n",
       "    </tr>\n",
       "    <tr>\n",
       "      <th>2</th>\n",
       "      <td>13.00300</td>\n",
       "      <td>17.8300</td>\n",
       "      <td>67.540</td>\n",
       "      <td>64.430</td>\n",
       "      <td>114.630</td>\n",
       "      <td>1655.2</td>\n",
       "    </tr>\n",
       "    <tr>\n",
       "      <th>3</th>\n",
       "      <td>-6.35780</td>\n",
       "      <td>30.4270</td>\n",
       "      <td>46.573</td>\n",
       "      <td>93.653</td>\n",
       "      <td>67.497</td>\n",
       "      <td>1239.7</td>\n",
       "    </tr>\n",
       "    <tr>\n",
       "      <th>4</th>\n",
       "      <td>25.58100</td>\n",
       "      <td>7.4073</td>\n",
       "      <td>30.896</td>\n",
       "      <td>72.519</td>\n",
       "      <td>98.709</td>\n",
       "      <td>2010.4</td>\n",
       "    </tr>\n",
       "    <tr>\n",
       "      <th>...</th>\n",
       "      <td>...</td>\n",
       "      <td>...</td>\n",
       "      <td>...</td>\n",
       "      <td>...</td>\n",
       "      <td>...</td>\n",
       "      <td>...</td>\n",
       "    </tr>\n",
       "    <tr>\n",
       "      <th>295</th>\n",
       "      <td>9.24530</td>\n",
       "      <td>10.1590</td>\n",
       "      <td>80.555</td>\n",
       "      <td>72.726</td>\n",
       "      <td>99.786</td>\n",
       "      <td>1503.8</td>\n",
       "    </tr>\n",
       "    <tr>\n",
       "      <th>296</th>\n",
       "      <td>0.38753</td>\n",
       "      <td>44.1610</td>\n",
       "      <td>80.662</td>\n",
       "      <td>72.227</td>\n",
       "      <td>115.950</td>\n",
       "      <td>1639.8</td>\n",
       "    </tr>\n",
       "    <tr>\n",
       "      <th>297</th>\n",
       "      <td>11.52900</td>\n",
       "      <td>-12.7620</td>\n",
       "      <td>57.399</td>\n",
       "      <td>71.702</td>\n",
       "      <td>116.500</td>\n",
       "      <td>1524.2</td>\n",
       "    </tr>\n",
       "    <tr>\n",
       "      <th>298</th>\n",
       "      <td>-4.37280</td>\n",
       "      <td>18.8140</td>\n",
       "      <td>65.591</td>\n",
       "      <td>99.102</td>\n",
       "      <td>118.160</td>\n",
       "      <td>1699.5</td>\n",
       "    </tr>\n",
       "    <tr>\n",
       "      <th>299</th>\n",
       "      <td>-20.80500</td>\n",
       "      <td>30.3240</td>\n",
       "      <td>57.158</td>\n",
       "      <td>66.992</td>\n",
       "      <td>103.660</td>\n",
       "      <td>1918.0</td>\n",
       "    </tr>\n",
       "  </tbody>\n",
       "</table>\n",
       "<p>300 rows × 6 columns</p>\n",
       "</div>"
      ],
      "text/plain": [
       "           X1       X2      X3      X4       X5       Y\n",
       "0    14.47200  23.5520  67.921  76.212   88.292  1583.2\n",
       "1     8.77720  23.4560  45.202  74.720   95.002  1367.7\n",
       "2    13.00300  17.8300  67.540  64.430  114.630  1655.2\n",
       "3    -6.35780  30.4270  46.573  93.653   67.497  1239.7\n",
       "4    25.58100   7.4073  30.896  72.519   98.709  2010.4\n",
       "..        ...      ...     ...     ...      ...     ...\n",
       "295   9.24530  10.1590  80.555  72.726   99.786  1503.8\n",
       "296   0.38753  44.1610  80.662  72.227  115.950  1639.8\n",
       "297  11.52900 -12.7620  57.399  71.702  116.500  1524.2\n",
       "298  -4.37280  18.8140  65.591  99.102  118.160  1699.5\n",
       "299 -20.80500  30.3240  57.158  66.992  103.660  1918.0\n",
       "\n",
       "[300 rows x 6 columns]"
      ]
     },
     "execution_count": 21,
     "metadata": {},
     "output_type": "execute_result"
    }
   ],
   "source": [
    "## Getting X1, X2, X3, X4, X5, Y for linear regression.\n",
    "data_task3 = data[['X1','X2','X3','X4','X5','Y']]\n",
    "data_task3"
   ]
  },
  {
   "cell_type": "code",
   "execution_count": 22,
   "metadata": {},
   "outputs": [
    {
     "data": {
      "text/html": [
       "<table class=\"simpletable\">\n",
       "<caption>OLS Regression Results</caption>\n",
       "<tr>\n",
       "  <th>Dep. Variable:</th>            <td>y</td>        <th>  R-squared:         </th> <td>   0.483</td>\n",
       "</tr>\n",
       "<tr>\n",
       "  <th>Model:</th>                   <td>OLS</td>       <th>  Adj. R-squared:    </th> <td>   0.474</td>\n",
       "</tr>\n",
       "<tr>\n",
       "  <th>Method:</th>             <td>Least Squares</td>  <th>  F-statistic:       </th> <td>   52.88</td>\n",
       "</tr>\n",
       "<tr>\n",
       "  <th>Date:</th>             <td>Wed, 07 Oct 2020</td> <th>  Prob (F-statistic):</th> <td>1.24e-38</td>\n",
       "</tr>\n",
       "<tr>\n",
       "  <th>Time:</th>                 <td>18:32:03</td>     <th>  Log-Likelihood:    </th> <td> -1950.7</td>\n",
       "</tr>\n",
       "<tr>\n",
       "  <th>No. Observations:</th>      <td>   289</td>      <th>  AIC:               </th> <td>   3913.</td>\n",
       "</tr>\n",
       "<tr>\n",
       "  <th>Df Residuals:</th>          <td>   283</td>      <th>  BIC:               </th> <td>   3935.</td>\n",
       "</tr>\n",
       "<tr>\n",
       "  <th>Df Model:</th>              <td>     5</td>      <th>                     </th>     <td> </td>   \n",
       "</tr>\n",
       "<tr>\n",
       "  <th>Covariance Type:</th>      <td>nonrobust</td>    <th>                     </th>     <td> </td>   \n",
       "</tr>\n",
       "</table>\n",
       "<table class=\"simpletable\">\n",
       "<tr>\n",
       "    <td></td>       <th>coef</th>     <th>std err</th>      <th>t</th>      <th>P>|t|</th>  <th>[0.025</th>    <th>0.975]</th>  \n",
       "</tr>\n",
       "<tr>\n",
       "  <th>const</th> <td> -193.5905</td> <td>  145.594</td> <td>   -1.330</td> <td> 0.185</td> <td> -480.175</td> <td>   92.994</td>\n",
       "</tr>\n",
       "<tr>\n",
       "  <th>X1</th>    <td>   11.6203</td> <td>    1.081</td> <td>   10.749</td> <td> 0.000</td> <td>    9.492</td> <td>   13.748</td>\n",
       "</tr>\n",
       "<tr>\n",
       "  <th>X2</th>    <td>    5.0868</td> <td>    1.057</td> <td>    4.813</td> <td> 0.000</td> <td>    3.007</td> <td>    7.167</td>\n",
       "</tr>\n",
       "<tr>\n",
       "  <th>X3</th>    <td>    4.2968</td> <td>    0.942</td> <td>    4.559</td> <td> 0.000</td> <td>    2.442</td> <td>    6.152</td>\n",
       "</tr>\n",
       "<tr>\n",
       "  <th>X4</th>    <td>    6.8171</td> <td>    1.044</td> <td>    6.527</td> <td> 0.000</td> <td>    4.761</td> <td>    8.873</td>\n",
       "</tr>\n",
       "<tr>\n",
       "  <th>X5</th>    <td>    8.0684</td> <td>    0.986</td> <td>    8.184</td> <td> 0.000</td> <td>    6.128</td> <td>   10.009</td>\n",
       "</tr>\n",
       "</table>\n",
       "<table class=\"simpletable\">\n",
       "<tr>\n",
       "  <th>Omnibus:</th>       <td>133.475</td> <th>  Durbin-Watson:     </th> <td>   2.030</td> \n",
       "</tr>\n",
       "<tr>\n",
       "  <th>Prob(Omnibus):</th> <td> 0.000</td>  <th>  Jarque-Bera (JB):  </th> <td> 474.828</td> \n",
       "</tr>\n",
       "<tr>\n",
       "  <th>Skew:</th>          <td> 2.061</td>  <th>  Prob(JB):          </th> <td>7.81e-104</td>\n",
       "</tr>\n",
       "<tr>\n",
       "  <th>Kurtosis:</th>      <td> 7.737</td>  <th>  Cond. No.          </th> <td>1.71e+03</td> \n",
       "</tr>\n",
       "</table><br/><br/>Warnings:<br/>[1] Standard Errors assume that the covariance matrix of the errors is correctly specified.<br/>[2] The condition number is large, 1.71e+03. This might indicate that there are<br/>strong multicollinearity or other numerical problems."
      ],
      "text/plain": [
       "<class 'statsmodels.iolib.summary.Summary'>\n",
       "\"\"\"\n",
       "                            OLS Regression Results                            \n",
       "==============================================================================\n",
       "Dep. Variable:                      y   R-squared:                       0.483\n",
       "Model:                            OLS   Adj. R-squared:                  0.474\n",
       "Method:                 Least Squares   F-statistic:                     52.88\n",
       "Date:                Wed, 07 Oct 2020   Prob (F-statistic):           1.24e-38\n",
       "Time:                        18:32:03   Log-Likelihood:                -1950.7\n",
       "No. Observations:                 289   AIC:                             3913.\n",
       "Df Residuals:                     283   BIC:                             3935.\n",
       "Df Model:                           5                                         \n",
       "Covariance Type:            nonrobust                                         \n",
       "==============================================================================\n",
       "                 coef    std err          t      P>|t|      [0.025      0.975]\n",
       "------------------------------------------------------------------------------\n",
       "const       -193.5905    145.594     -1.330      0.185    -480.175      92.994\n",
       "X1            11.6203      1.081     10.749      0.000       9.492      13.748\n",
       "X2             5.0868      1.057      4.813      0.000       3.007       7.167\n",
       "X3             4.2968      0.942      4.559      0.000       2.442       6.152\n",
       "X4             6.8171      1.044      6.527      0.000       4.761       8.873\n",
       "X5             8.0684      0.986      8.184      0.000       6.128      10.009\n",
       "==============================================================================\n",
       "Omnibus:                      133.475   Durbin-Watson:                   2.030\n",
       "Prob(Omnibus):                  0.000   Jarque-Bera (JB):              474.828\n",
       "Skew:                           2.061   Prob(JB):                    7.81e-104\n",
       "Kurtosis:                       7.737   Cond. No.                     1.71e+03\n",
       "==============================================================================\n",
       "\n",
       "Warnings:\n",
       "[1] Standard Errors assume that the covariance matrix of the errors is correctly specified.\n",
       "[2] The condition number is large, 1.71e+03. This might indicate that there are\n",
       "strong multicollinearity or other numerical problems.\n",
       "\"\"\""
      ]
     },
     "execution_count": 22,
     "metadata": {},
     "output_type": "execute_result"
    }
   ],
   "source": [
    "## Implementation for linear regression using X1, X2, X3, X4, X5.\n",
    "z = np.abs(stats.zscore(data_task3))\n",
    "data_task3 = data_task3[(z<3).all(axis=1)]\n",
    "x1, y = data_task3[['X1','X2','X3','X4','X5']], data_task3['Y'].to_numpy()\n",
    "x = sm.add_constant(x1)\n",
    "model = sm.OLS(y, x).fit()\n",
    "y_pred = model.predict(x)\n",
    "model.summary()"
   ]
  },
  {
   "cell_type": "code",
   "execution_count": 23,
   "metadata": {},
   "outputs": [
    {
     "data": {
      "image/png": "[encoded data removed]",
      "text/plain": [
       "<Figure size 432x288 with 1 Axes>"
      ]
     },
     "metadata": {
      "needs_background": "light"
     },
     "output_type": "display_data"
    }
   ],
   "source": [
    "## Plotting QQ plot for residuals.\n",
    "error = np.subtract(y, y_pred)\n",
    "error_var = np.var(error)\n",
    "fig = sm.qqplot(error, loc = 0, scale = np.sqrt(error_var), line='q')\n",
    "plt.show()"
   ]
  },
  {
   "cell_type": "code",
   "execution_count": 24,
   "metadata": {},
   "outputs": [
    {
     "data": {
      "text/plain": [
       "Text(0, 0.5, 'Frequency')"
      ]
     },
     "execution_count": 24,
     "metadata": {},
     "output_type": "execute_result"
    },
    {
     "data": {
      "image/png": "[encoded data removed]",
      "text/plain": [
       "<Figure size 360x288 with 1 Axes>"
      ]
     },
     "metadata": {
      "needs_background": "light"
     },
     "output_type": "display_data"
    }
   ],
   "source": [
    "## Plotting histogram for residuals.\n",
    "n_bins = 30\n",
    "fig, ax = plt.subplots(figsize =(5, 4)) \n",
    "ax.hist(error, bins = n_bins)\n",
    "plt.xlabel(\"error\") \n",
    "plt.ylabel(\"Frequency\")"
   ]
  },
  {
   "cell_type": "code",
   "execution_count": 25,
   "metadata": {},
   "outputs": [
    {
     "data": {
      "text/html": [
       "<div>\n",
       "<style scoped>\n",
       "    .dataframe tbody tr th:only-of-type {\n",
       "        vertical-align: middle;\n",
       "    }\n",
       "\n",
       "    .dataframe tbody tr th {\n",
       "        vertical-align: top;\n",
       "    }\n",
       "\n",
       "    .dataframe thead th {\n",
       "        text-align: right;\n",
       "    }\n",
       "</style>\n",
       "<table border=\"1\" class=\"dataframe\">\n",
       "  <thead>\n",
       "    <tr style=\"text-align: right;\">\n",
       "      <th></th>\n",
       "      <th>X1</th>\n",
       "      <th>X2</th>\n",
       "      <th>X4</th>\n",
       "      <th>Y</th>\n",
       "    </tr>\n",
       "  </thead>\n",
       "  <tbody>\n",
       "    <tr>\n",
       "      <th>0</th>\n",
       "      <td>14.47200</td>\n",
       "      <td>23.5520</td>\n",
       "      <td>76.212</td>\n",
       "      <td>1583.2</td>\n",
       "    </tr>\n",
       "    <tr>\n",
       "      <th>1</th>\n",
       "      <td>8.77720</td>\n",
       "      <td>23.4560</td>\n",
       "      <td>74.720</td>\n",
       "      <td>1367.7</td>\n",
       "    </tr>\n",
       "    <tr>\n",
       "      <th>2</th>\n",
       "      <td>13.00300</td>\n",
       "      <td>17.8300</td>\n",
       "      <td>64.430</td>\n",
       "      <td>1655.2</td>\n",
       "    </tr>\n",
       "    <tr>\n",
       "      <th>3</th>\n",
       "      <td>-6.35780</td>\n",
       "      <td>30.4270</td>\n",
       "      <td>93.653</td>\n",
       "      <td>1239.7</td>\n",
       "    </tr>\n",
       "    <tr>\n",
       "      <th>4</th>\n",
       "      <td>25.58100</td>\n",
       "      <td>7.4073</td>\n",
       "      <td>72.519</td>\n",
       "      <td>2010.4</td>\n",
       "    </tr>\n",
       "    <tr>\n",
       "      <th>...</th>\n",
       "      <td>...</td>\n",
       "      <td>...</td>\n",
       "      <td>...</td>\n",
       "      <td>...</td>\n",
       "    </tr>\n",
       "    <tr>\n",
       "      <th>295</th>\n",
       "      <td>9.24530</td>\n",
       "      <td>10.1590</td>\n",
       "      <td>72.726</td>\n",
       "      <td>1503.8</td>\n",
       "    </tr>\n",
       "    <tr>\n",
       "      <th>296</th>\n",
       "      <td>0.38753</td>\n",
       "      <td>44.1610</td>\n",
       "      <td>72.227</td>\n",
       "      <td>1639.8</td>\n",
       "    </tr>\n",
       "    <tr>\n",
       "      <th>297</th>\n",
       "      <td>11.52900</td>\n",
       "      <td>-12.7620</td>\n",
       "      <td>71.702</td>\n",
       "      <td>1524.2</td>\n",
       "    </tr>\n",
       "    <tr>\n",
       "      <th>298</th>\n",
       "      <td>-4.37280</td>\n",
       "      <td>18.8140</td>\n",
       "      <td>99.102</td>\n",
       "      <td>1699.5</td>\n",
       "    </tr>\n",
       "    <tr>\n",
       "      <th>299</th>\n",
       "      <td>-20.80500</td>\n",
       "      <td>30.3240</td>\n",
       "      <td>66.992</td>\n",
       "      <td>1918.0</td>\n",
       "    </tr>\n",
       "  </tbody>\n",
       "</table>\n",
       "<p>300 rows × 4 columns</p>\n",
       "</div>"
      ],
      "text/plain": [
       "           X1       X2      X4       Y\n",
       "0    14.47200  23.5520  76.212  1583.2\n",
       "1     8.77720  23.4560  74.720  1367.7\n",
       "2    13.00300  17.8300  64.430  1655.2\n",
       "3    -6.35780  30.4270  93.653  1239.7\n",
       "4    25.58100   7.4073  72.519  2010.4\n",
       "..        ...      ...     ...     ...\n",
       "295   9.24530  10.1590  72.726  1503.8\n",
       "296   0.38753  44.1610  72.227  1639.8\n",
       "297  11.52900 -12.7620  71.702  1524.2\n",
       "298  -4.37280  18.8140  99.102  1699.5\n",
       "299 -20.80500  30.3240  66.992  1918.0\n",
       "\n",
       "[300 rows x 4 columns]"
      ]
     },
     "execution_count": 25,
     "metadata": {},
     "output_type": "execute_result"
    }
   ],
   "source": [
    "## Getting X1, X2, X4, Y for linear regression.\n",
    "final_data = data_task3 = data[['X1','X2','X4','Y']]\n",
    "final_data"
   ]
  },
  {
   "cell_type": "code",
   "execution_count": 26,
   "metadata": {},
   "outputs": [
    {
     "data": {
      "text/html": [
       "<table class=\"simpletable\">\n",
       "<caption>OLS Regression Results</caption>\n",
       "<tr>\n",
       "  <th>Dep. Variable:</th>            <td>y</td>        <th>  R-squared:         </th> <td>   0.326</td>\n",
       "</tr>\n",
       "<tr>\n",
       "  <th>Model:</th>                   <td>OLS</td>       <th>  Adj. R-squared:    </th> <td>   0.319</td>\n",
       "</tr>\n",
       "<tr>\n",
       "  <th>Method:</th>             <td>Least Squares</td>  <th>  F-statistic:       </th> <td>   46.10</td>\n",
       "</tr>\n",
       "<tr>\n",
       "  <th>Date:</th>             <td>Wed, 07 Oct 2020</td> <th>  Prob (F-statistic):</th> <td>2.48e-24</td>\n",
       "</tr>\n",
       "<tr>\n",
       "  <th>Time:</th>                 <td>18:32:06</td>     <th>  Log-Likelihood:    </th> <td> -1995.6</td>\n",
       "</tr>\n",
       "<tr>\n",
       "  <th>No. Observations:</th>      <td>   290</td>      <th>  AIC:               </th> <td>   3999.</td>\n",
       "</tr>\n",
       "<tr>\n",
       "  <th>Df Residuals:</th>          <td>   286</td>      <th>  BIC:               </th> <td>   4014.</td>\n",
       "</tr>\n",
       "<tr>\n",
       "  <th>Df Model:</th>              <td>     3</td>      <th>                     </th>     <td> </td>   \n",
       "</tr>\n",
       "<tr>\n",
       "  <th>Covariance Type:</th>      <td>nonrobust</td>    <th>                     </th>     <td> </td>   \n",
       "</tr>\n",
       "</table>\n",
       "<table class=\"simpletable\">\n",
       "<tr>\n",
       "    <td></td>       <th>coef</th>     <th>std err</th>      <th>t</th>      <th>P>|t|</th>  <th>[0.025</th>    <th>0.975]</th>  \n",
       "</tr>\n",
       "<tr>\n",
       "  <th>const</th> <td>  883.4184</td> <td>   98.816</td> <td>    8.940</td> <td> 0.000</td> <td>  688.920</td> <td> 1077.917</td>\n",
       "</tr>\n",
       "<tr>\n",
       "  <th>X1</th>    <td>   11.3510</td> <td>    1.227</td> <td>    9.255</td> <td> 0.000</td> <td>    8.937</td> <td>   13.765</td>\n",
       "</tr>\n",
       "<tr>\n",
       "  <th>X2</th>    <td>    4.7545</td> <td>    1.199</td> <td>    3.964</td> <td> 0.000</td> <td>    2.394</td> <td>    7.115</td>\n",
       "</tr>\n",
       "<tr>\n",
       "  <th>X4</th>    <td>    6.6832</td> <td>    1.183</td> <td>    5.647</td> <td> 0.000</td> <td>    4.354</td> <td>    9.013</td>\n",
       "</tr>\n",
       "</table>\n",
       "<table class=\"simpletable\">\n",
       "<tr>\n",
       "  <th>Omnibus:</th>       <td>63.850</td> <th>  Durbin-Watson:     </th> <td>   1.982</td>\n",
       "</tr>\n",
       "<tr>\n",
       "  <th>Prob(Omnibus):</th> <td> 0.000</td> <th>  Jarque-Bera (JB):  </th> <td> 115.892</td>\n",
       "</tr>\n",
       "<tr>\n",
       "  <th>Skew:</th>          <td> 1.182</td> <th>  Prob(JB):          </th> <td>6.83e-26</td>\n",
       "</tr>\n",
       "<tr>\n",
       "  <th>Kurtosis:</th>      <td> 5.000</td> <th>  Cond. No.          </th> <td>    607.</td>\n",
       "</tr>\n",
       "</table><br/><br/>Warnings:<br/>[1] Standard Errors assume that the covariance matrix of the errors is correctly specified."
      ],
      "text/plain": [
       "<class 'statsmodels.iolib.summary.Summary'>\n",
       "\"\"\"\n",
       "                            OLS Regression Results                            \n",
       "==============================================================================\n",
       "Dep. Variable:                      y   R-squared:                       0.326\n",
       "Model:                            OLS   Adj. R-squared:                  0.319\n",
       "Method:                 Least Squares   F-statistic:                     46.10\n",
       "Date:                Wed, 07 Oct 2020   Prob (F-statistic):           2.48e-24\n",
       "Time:                        18:32:06   Log-Likelihood:                -1995.6\n",
       "No. Observations:                 290   AIC:                             3999.\n",
       "Df Residuals:                     286   BIC:                             4014.\n",
       "Df Model:                           3                                         \n",
       "Covariance Type:            nonrobust                                         \n",
       "==============================================================================\n",
       "                 coef    std err          t      P>|t|      [0.025      0.975]\n",
       "------------------------------------------------------------------------------\n",
       "const        883.4184     98.816      8.940      0.000     688.920    1077.917\n",
       "X1            11.3510      1.227      9.255      0.000       8.937      13.765\n",
       "X2             4.7545      1.199      3.964      0.000       2.394       7.115\n",
       "X4             6.6832      1.183      5.647      0.000       4.354       9.013\n",
       "==============================================================================\n",
       "Omnibus:                       63.850   Durbin-Watson:                   1.982\n",
       "Prob(Omnibus):                  0.000   Jarque-Bera (JB):              115.892\n",
       "Skew:                           1.182   Prob(JB):                     6.83e-26\n",
       "Kurtosis:                       5.000   Cond. No.                         607.\n",
       "==============================================================================\n",
       "\n",
       "Warnings:\n",
       "[1] Standard Errors assume that the covariance matrix of the errors is correctly specified.\n",
       "\"\"\""
      ]
     },
     "execution_count": 26,
     "metadata": {},
     "output_type": "execute_result"
    }
   ],
   "source": [
    "## Implementation for linear regression using X1, X2, X4.\n",
    "z = np.abs(stats.zscore(data_task3))\n",
    "data_task3 = data_task3[(z<3).all(axis=1)]\n",
    "x1, y = data_task3[['X1','X2','X4']], data_task3['Y'].to_numpy()\n",
    "x = sm.add_constant(x1)\n",
    "model = sm.OLS(y, x).fit()\n",
    "y_pred = model.predict(x)\n",
    "model.summary()"
   ]
  },
  {
   "cell_type": "code",
   "execution_count": 27,
   "metadata": {},
   "outputs": [
    {
     "data": {
      "image/png": "[encoded data removed]",
      "text/plain": [
       "<Figure size 432x288 with 1 Axes>"
      ]
     },
     "metadata": {
      "needs_background": "light"
     },
     "output_type": "display_data"
    }
   ],
   "source": [
    "## Plotting QQ plot for residuals.\n",
    "error = np.subtract(y, y_pred)\n",
    "error_var = np.var(error)\n",
    "fig = sm.qqplot(error, loc = 0, scale = np.sqrt(error_var), line='q')\n",
    "plt.show()"
   ]
  },
  {
   "cell_type": "code",
   "execution_count": 28,
   "metadata": {},
   "outputs": [
    {
     "data": {
      "text/plain": [
       "Text(0, 0.5, 'Frequency')"
      ]
     },
     "execution_count": 28,
     "metadata": {},
     "output_type": "execute_result"
    },
    {
     "data": {
      "image/png": "[encoded data removed]",
      "text/plain": [
       "<Figure size 360x288 with 1 Axes>"
      ]
     },
     "metadata": {
      "needs_background": "light"
     },
     "output_type": "display_data"
    }
   ],
   "source": [
    "## Plotting histogram for residuals.\n",
    "n_bins = 30\n",
    "fig, ax = plt.subplots(figsize =(5, 4)) \n",
    "ax.hist(error, bins = n_bins)\n",
    "plt.xlabel(\"error\") \n",
    "plt.ylabel(\"Frequency\")"
   ]
  },
  {
   "cell_type": "code",
   "execution_count": 29,
   "metadata": {},
   "outputs": [
    {
     "name": "stdout",
     "output_type": "stream",
     "text": [
      "Chi squared test doesnt satisfy hypothesis not accepted with prob =  1.3653877537569556e-14\n"
     ]
    },
    {
     "data": {
      "text/plain": [
       "Text(0, 0.5, 'residuals')"
      ]
     },
     "execution_count": 29,
     "metadata": {},
     "output_type": "execute_result"
    },
    {
     "data": {
      "image/png": "[encoded data removed]",
      "text/plain": [
       "<Figure size 432x288 with 1 Axes>"
      ]
     },
     "metadata": {
      "needs_background": "light"
     },
     "output_type": "display_data"
    }
   ],
   "source": [
    "## Chi-squared test hypothesis.\n",
    "k2, prob = stats.normaltest(error)\n",
    "if prob < 0.05:\n",
    "    print(\"Chi squared test doesnt satisfy hypothesis not accepted with prob = \", prob)\n",
    "else:\n",
    "    print('Chi squared test passed hypothesis accepted with prob = ', prob)\n",
    "    \n",
    "plt.scatter(y_pred, error)\n",
    "plt.xlabel('y_pred')\n",
    "plt.ylabel('residuals')"
   ]
  },
  {
   "cell_type": "markdown",
   "metadata": {},
   "source": [
    "Task 3 comments \n",
    "To remove the ouliers from the data I have used zscore for every data point and removed the data points which are 3 standard deviation apart from the mean value. For this task I have all considered the independent variable X1, X2, X3, X4, X5. First we have used simply linear regression with Y = a0 + a1X1 + a2X2 + a3X3 + a4X4 + a5X5 + e. From the r^2 value which is 0.28 which is very low shows that this model doesnt not fit the data very well. Also gives us an errort that there might be multicolinearity in the data. Also from the residual analysis we can see that QQ plot is no where close to the line and the histogram for residuals with bin size of 30 shows it is one sided and not normally distributed.  \n",
    "From the correlation matrix of the we can see that the independent variable X1 is more correlated to the dependent Y as compared to the other independent variables. But we if only use the X1 it will result in the same model as we have used in task 2. Therefore I have used the variables X1, X2, X4 which are top 3 indepndent variables to which Y is correlated. The 3 variables are chosen after trying out multiple variations in the number of variables. But from the QQ plot, histogram and p, R^2 values we can see that this model is better than the linear regression model but it does not match the performance for a polynomial regression model. "
   ]
  }
 ],
 "metadata": {
  "kernelspec": {
   "display_name": "Python 3",
   "language": "python",
   "name": "python3"
  },
  "language_info": {
   "codemirror_mode": {
    "name": "ipython",
    "version": 3
   },
   "file_extension": ".py",
   "mimetype": "text/x-python",
   "name": "python",
   "nbconvert_exporter": "python",
   "pygments_lexer": "ipython3",
   "version": "3.7.4"
  }
 },
 "nbformat": 4,
 "nbformat_minor": 4
}
